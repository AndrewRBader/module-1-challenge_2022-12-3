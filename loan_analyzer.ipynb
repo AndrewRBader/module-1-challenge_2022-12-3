{
 "cells": [
  {
   "cell_type": "code",
   "execution_count": 6,
   "metadata": {},
   "outputs": [],
   "source": [
    "import csv\n",
    "from pathlib import Path\n",
    "\n",
    "loan_costs = [500, 600, 200, 1000, 450]"
   ]
  },
  {
   "cell_type": "markdown",
   "metadata": {},
   "source": [
    "\"\"\"Part 1: Automate the Calculations.\n",
    "\n",
    "Automate the calculations for the loan portfolio summaries.\n",
    "\n",
    "First, let's start with some calculations on a list of prices for 5 loans.\n",
    "    1. Use the `len` function to calculate the total number of loans in the list.\n",
    "    2. Use the `sum` function to calculate the total of all loans in the list.\n",
    "    3. Using the sum of all loans and the total number of loans, calculate the average loan price.\n",
    "    4. Print all calculations with descriptive messages.\n",
    "\"\"\""
   ]
  },
  {
   "cell_type": "code",
   "execution_count": 10,
   "metadata": {},
   "outputs": [
    {
     "name": "stdout",
     "output_type": "stream",
     "text": [
      "The number of loans are: 5\n"
     ]
    }
   ],
   "source": [
    "# How many loans are in the list?\n",
    "# @TODO: Use the `len` function to calculate the total number of loans in the list.\n",
    "# Print the number of loans from the list\n",
    "# YOUR CODE HERE!\n",
    "number_of_loans = len(loan_costs)\n",
    "print(f\"The number of loans are: {number_of_loans}\")"
   ]
  },
  {
   "cell_type": "code",
   "execution_count": 17,
   "metadata": {},
   "outputs": [
    {
     "name": "stdout",
     "output_type": "stream",
     "text": [
      "the total amount of loans is: $2750.00\n"
     ]
    }
   ],
   "source": [
    "# What is the total of all loans?\n",
    "# @TODO: Use the `sum` function to calculate the total of all loans in the list.\n",
    "# Print the total value of the loans\n",
    "# YOUR CODE HERE!\n",
    "total_of_loans = sum(loan_costs)\n",
    "print(f\"the total amount of loans is: ${total_of_loans:.2f}\")"
   ]
  },
  {
   "cell_type": "code",
   "execution_count": 16,
   "metadata": {},
   "outputs": [
    {
     "name": "stdout",
     "output_type": "stream",
     "text": [
      "the average loan amount is $550.00\n"
     ]
    }
   ],
   "source": [
    "# What is the average loan amount from the list?\n",
    "# @TODO: Using the sum of all loans and the total number of loans, calculate the average loan price.\n",
    "# Print the average loan amount\n",
    "# YOUR CODE HERE!\n",
    "average_loan_amount = total_of_loans/number_of_loans\n",
    "print(f\"the average loan amount is ${average_loan_amount:.2f}\")"
   ]
  },
  {
   "cell_type": "markdown",
   "metadata": {},
   "source": [
    "\"\"\"Part 2: Analyze Loan Data.\n",
    "\n",
    "Analyze the loan to determine the investment evaluation.\n",
    "\n",
    "Using more detailed data on one of these loans, follow these steps to calculate a Present Value, or a \"fair price\" for what this loan would be worth.\n",
    "\n",
    "1. Use get() on the dictionary of additional information to extract the **Future Value** and **Remaining Months** on the loan.\n",
    "    a. Save these values as variables called `future_value` and `remaining_months`.\n",
    "    b. Print each variable.\n",
    "\n",
    "    @NOTE:\n",
    "    **Future Value**: The amount of money the borrower has to pay back upon maturity of the loan (a.k.a. \"Face Value\")\n",
    "    **Remaining Months**: The remaining maturity (in months) before the loan needs to be fully repaid.\n",
    "\n",
    "2. Use the formula for Present Value to calculate a \"fair value\" of the loan. Use a minimum required return of 20% as the discount rate.\n",
    "3. Write a conditional statement (an if-else statement) to decide if the present value represents the loan's fair value.\n",
    "    a. If the present value of the loan is greater than or equal to the cost, then print a message that says the loan is worth at least the cost to buy it.\n",
    "    b. Else, the present value of the loan is less than the loan cost, then print a message that says that the loan is too expensive and not worth the price.\n",
    "\n",
    "    @NOTE:\n",
    "    If Present Value represents the loan's fair value (given the required minimum return of 20%), does it make sense to buy the loan at its current cost?\n",
    "\"\"\""
   ]
  },
  {
   "cell_type": "code",
   "execution_count": 13,
   "metadata": {},
   "outputs": [
    {
     "name": "stdout",
     "output_type": "stream",
     "text": [
      "the future value is: 1000\n",
      "the remaining months are: 9\n"
     ]
    }
   ],
   "source": [
    "# Given the following loan data, you will need to calculate the present value for the loan\n",
    "loan = {\n",
    "    \"loan_price\": 500,\n",
    "    \"remaining_months\": 9,\n",
    "    \"repayment_interval\": \"bullet\",\n",
    "    \"future_value\": 1000,\n",
    "}\n",
    "\n",
    "# @TODO: Use get() on the dictionary of additional information to extract the Future Value and Remaining Months on the loan.\n",
    "# Print each variable.\n",
    "# YOUR CODE HERE!\n",
    "\n",
    "future_value = loan.get(\"future_value\")\n",
    "print(f\"the future value is: ${future_value}\")\n",
    "remaining_months = loan.get(\"remaining_months\")\n",
    "print(f\"the remaining months are: {remaining_months}\")"
   ]
  },
  {
   "cell_type": "code",
   "execution_count": 18,
   "metadata": {},
   "outputs": [
    {
     "name": "stdout",
     "output_type": "stream",
     "text": [
      "the present value is: $861.77\n"
     ]
    }
   ],
   "source": [
    "# @TODO: Use the formula for Present Value to calculate a \"fair value\" of the loan.\n",
    "# Use a minimum required return of 20% as the discount rate.\n",
    "#   You'll want to use the **monthly** version of the present value formula.\n",
    "#   HINT: Present Value = Future Value / (1 + Discount_Rate/12) ** remaining_months\n",
    "\n",
    "# YOUR CODE HERE!\n",
    "\n",
    "present_value = future_value / (1 + 0.2/12) ** remaining_months\n",
    "print(f\"the present value is: ${present_value:.2f}\")"
   ]
  }
 ],
 "metadata": {
  "kernelspec": {
   "display_name": "Python 3.11.0 64-bit",
   "language": "python",
   "name": "python3"
  },
  "language_info": {
   "codemirror_mode": {
    "name": "ipython",
    "version": 3
   },
   "file_extension": ".py",
   "mimetype": "text/x-python",
   "name": "python",
   "nbconvert_exporter": "python",
   "pygments_lexer": "ipython3",
   "version": "3.11.0"
  },
  "orig_nbformat": 4,
  "vscode": {
   "interpreter": {
    "hash": "aee8b7b246df8f9039afb4144a1f6fd8d2ca17a180786b69acc140d282b71a49"
   }
  }
 },
 "nbformat": 4,
 "nbformat_minor": 2
}
